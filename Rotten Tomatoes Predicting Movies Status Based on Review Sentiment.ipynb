{
 "cells": [
  {
   "cell_type": "code",
   "execution_count": 27,
   "id": "initial_id",
   "metadata": {
    "collapsed": true,
    "ExecuteTime": {
     "end_time": "2023-10-17T14:30:40.209477300Z",
     "start_time": "2023-10-17T14:30:40.174804300Z"
    }
   },
   "outputs": [],
   "source": [
    "import numpy as np\n",
    "import pandas as pd\n",
    "import matplotlib.pyplot as plt\n",
    "import seaborn as sns\n",
    "from sklearn.model_selection import train_test_split\n",
    "from sklearn.feature_extraction.text import CountVectorizer\n",
    "from sklearn.ensemble import RandomForestClassifier\n",
    "from sklearn.metrics import classification_report, confusion_matrix\n",
    "from sklearn.utils.class_weight import compute_class_weight"
   ]
  },
  {
   "cell_type": "markdown",
   "source": [
    "Import Datasets"
   ],
   "metadata": {
    "collapsed": false
   },
   "id": "bb4e2a97dbb13768"
  },
  {
   "cell_type": "code",
   "execution_count": 28,
   "outputs": [
    {
     "data": {
      "text/plain": "                    rotten_tomatoes_link  \\\n0                              m/0814255   \n1                              m/0878835   \n2                                   m/10   \n3                 m/1000013-12_angry_men   \n4  m/1000079-20000_leagues_under_the_sea   \n\n                                         movie_title  \\\n0  Percy Jackson & the Olympians: The Lightning T...   \n1                                        Please Give   \n2                                                 10   \n3                    12 Angry Men (Twelve Angry Men)   \n4                       20,000 Leagues Under The Sea   \n\n                                          movie_info  \\\n0  Always trouble-prone, the life of teenager Per...   \n1  Kate (Catherine Keener) and her husband Alex (...   \n2  A successful, middle-aged Hollywood songwriter...   \n3  Following the closing arguments in a murder tr...   \n4  In 1866, Professor Pierre M. Aronnax (Paul Luk...   \n\n                                   critics_consensus content_rating  \\\n0  Though it may seem like just another Harry Pot...             PG   \n1  Nicole Holofcener's newest might seem slight i...              R   \n2  Blake Edwards' bawdy comedy may not score a pe...              R   \n3  Sidney Lumet's feature debut is a superbly wri...             NR   \n4  One of Disney's finest live-action adventures,...              G   \n\n                                              genres          directors  \\\n0  Action & Adventure, Comedy, Drama, Science Fic...     Chris Columbus   \n1                                             Comedy  Nicole Holofcener   \n2                                    Comedy, Romance      Blake Edwards   \n3                                    Classics, Drama       Sidney Lumet   \n4           Action & Adventure, Drama, Kids & Family  Richard Fleischer   \n\n                                      authors  \\\n0  Craig Titley, Chris Columbus, Rick Riordan   \n1                           Nicole Holofcener   \n2                               Blake Edwards   \n3                               Reginald Rose   \n4                                 Earl Felton   \n\n                                              actors original_release_date  \\\n0  Logan Lerman, Brandon T. Jackson, Alexandra Da...            2010-02-12   \n1  Catherine Keener, Amanda Peet, Oliver Platt, R...            2010-04-30   \n2  Dudley Moore, Bo Derek, Julie Andrews, Robert ...            1979-10-05   \n3  Martin Balsam, John Fiedler, Lee J. Cobb, E.G....            1957-04-13   \n4  James Mason, Kirk Douglas, Paul Lukas, Peter L...            1954-01-01   \n\n   ...      production_company  tomatometer_status tomatometer_rating  \\\n0  ...        20th Century Fox              Rotten               49.0   \n1  ...  Sony Pictures Classics     Certified-Fresh               87.0   \n2  ...             Waner Bros.               Fresh               67.0   \n3  ...    Criterion Collection     Certified-Fresh              100.0   \n4  ...                  Disney               Fresh               89.0   \n\n  tomatometer_count  audience_status  audience_rating audience_count  \\\n0             149.0          Spilled             53.0       254421.0   \n1             142.0          Upright             64.0        11574.0   \n2              24.0          Spilled             53.0        14684.0   \n3              54.0          Upright             97.0       105386.0   \n4              27.0          Upright             74.0        68918.0   \n\n   tomatometer_top_critics_count  tomatometer_fresh_critics_count  \\\n0                             43                               73   \n1                             44                              123   \n2                              2                               16   \n3                              6                               54   \n4                              5                               24   \n\n   tomatometer_rotten_critics_count  \n0                                76  \n1                                19  \n2                                 8  \n3                                 0  \n4                                 3  \n\n[5 rows x 22 columns]",
      "text/html": "<div>\n<style scoped>\n    .dataframe tbody tr th:only-of-type {\n        vertical-align: middle;\n    }\n\n    .dataframe tbody tr th {\n        vertical-align: top;\n    }\n\n    .dataframe thead th {\n        text-align: right;\n    }\n</style>\n<table border=\"1\" class=\"dataframe\">\n  <thead>\n    <tr style=\"text-align: right;\">\n      <th></th>\n      <th>rotten_tomatoes_link</th>\n      <th>movie_title</th>\n      <th>movie_info</th>\n      <th>critics_consensus</th>\n      <th>content_rating</th>\n      <th>genres</th>\n      <th>directors</th>\n      <th>authors</th>\n      <th>actors</th>\n      <th>original_release_date</th>\n      <th>...</th>\n      <th>production_company</th>\n      <th>tomatometer_status</th>\n      <th>tomatometer_rating</th>\n      <th>tomatometer_count</th>\n      <th>audience_status</th>\n      <th>audience_rating</th>\n      <th>audience_count</th>\n      <th>tomatometer_top_critics_count</th>\n      <th>tomatometer_fresh_critics_count</th>\n      <th>tomatometer_rotten_critics_count</th>\n    </tr>\n  </thead>\n  <tbody>\n    <tr>\n      <th>0</th>\n      <td>m/0814255</td>\n      <td>Percy Jackson &amp; the Olympians: The Lightning T...</td>\n      <td>Always trouble-prone, the life of teenager Per...</td>\n      <td>Though it may seem like just another Harry Pot...</td>\n      <td>PG</td>\n      <td>Action &amp; Adventure, Comedy, Drama, Science Fic...</td>\n      <td>Chris Columbus</td>\n      <td>Craig Titley, Chris Columbus, Rick Riordan</td>\n      <td>Logan Lerman, Brandon T. Jackson, Alexandra Da...</td>\n      <td>2010-02-12</td>\n      <td>...</td>\n      <td>20th Century Fox</td>\n      <td>Rotten</td>\n      <td>49.0</td>\n      <td>149.0</td>\n      <td>Spilled</td>\n      <td>53.0</td>\n      <td>254421.0</td>\n      <td>43</td>\n      <td>73</td>\n      <td>76</td>\n    </tr>\n    <tr>\n      <th>1</th>\n      <td>m/0878835</td>\n      <td>Please Give</td>\n      <td>Kate (Catherine Keener) and her husband Alex (...</td>\n      <td>Nicole Holofcener's newest might seem slight i...</td>\n      <td>R</td>\n      <td>Comedy</td>\n      <td>Nicole Holofcener</td>\n      <td>Nicole Holofcener</td>\n      <td>Catherine Keener, Amanda Peet, Oliver Platt, R...</td>\n      <td>2010-04-30</td>\n      <td>...</td>\n      <td>Sony Pictures Classics</td>\n      <td>Certified-Fresh</td>\n      <td>87.0</td>\n      <td>142.0</td>\n      <td>Upright</td>\n      <td>64.0</td>\n      <td>11574.0</td>\n      <td>44</td>\n      <td>123</td>\n      <td>19</td>\n    </tr>\n    <tr>\n      <th>2</th>\n      <td>m/10</td>\n      <td>10</td>\n      <td>A successful, middle-aged Hollywood songwriter...</td>\n      <td>Blake Edwards' bawdy comedy may not score a pe...</td>\n      <td>R</td>\n      <td>Comedy, Romance</td>\n      <td>Blake Edwards</td>\n      <td>Blake Edwards</td>\n      <td>Dudley Moore, Bo Derek, Julie Andrews, Robert ...</td>\n      <td>1979-10-05</td>\n      <td>...</td>\n      <td>Waner Bros.</td>\n      <td>Fresh</td>\n      <td>67.0</td>\n      <td>24.0</td>\n      <td>Spilled</td>\n      <td>53.0</td>\n      <td>14684.0</td>\n      <td>2</td>\n      <td>16</td>\n      <td>8</td>\n    </tr>\n    <tr>\n      <th>3</th>\n      <td>m/1000013-12_angry_men</td>\n      <td>12 Angry Men (Twelve Angry Men)</td>\n      <td>Following the closing arguments in a murder tr...</td>\n      <td>Sidney Lumet's feature debut is a superbly wri...</td>\n      <td>NR</td>\n      <td>Classics, Drama</td>\n      <td>Sidney Lumet</td>\n      <td>Reginald Rose</td>\n      <td>Martin Balsam, John Fiedler, Lee J. Cobb, E.G....</td>\n      <td>1957-04-13</td>\n      <td>...</td>\n      <td>Criterion Collection</td>\n      <td>Certified-Fresh</td>\n      <td>100.0</td>\n      <td>54.0</td>\n      <td>Upright</td>\n      <td>97.0</td>\n      <td>105386.0</td>\n      <td>6</td>\n      <td>54</td>\n      <td>0</td>\n    </tr>\n    <tr>\n      <th>4</th>\n      <td>m/1000079-20000_leagues_under_the_sea</td>\n      <td>20,000 Leagues Under The Sea</td>\n      <td>In 1866, Professor Pierre M. Aronnax (Paul Luk...</td>\n      <td>One of Disney's finest live-action adventures,...</td>\n      <td>G</td>\n      <td>Action &amp; Adventure, Drama, Kids &amp; Family</td>\n      <td>Richard Fleischer</td>\n      <td>Earl Felton</td>\n      <td>James Mason, Kirk Douglas, Paul Lukas, Peter L...</td>\n      <td>1954-01-01</td>\n      <td>...</td>\n      <td>Disney</td>\n      <td>Fresh</td>\n      <td>89.0</td>\n      <td>27.0</td>\n      <td>Upright</td>\n      <td>74.0</td>\n      <td>68918.0</td>\n      <td>5</td>\n      <td>24</td>\n      <td>3</td>\n    </tr>\n  </tbody>\n</table>\n<p>5 rows × 22 columns</p>\n</div>"
     },
     "execution_count": 28,
     "metadata": {},
     "output_type": "execute_result"
    }
   ],
   "source": [
    "df_movie = pd.read_csv('rotten_tomatoes_movies.csv')\n",
    "df_movie.head()"
   ],
   "metadata": {
    "collapsed": false,
    "ExecuteTime": {
     "end_time": "2023-10-17T14:30:40.679750600Z",
     "start_time": "2023-10-17T14:30:40.177815900Z"
    }
   },
   "id": "3ecd3474f9806941"
  },
  {
   "cell_type": "code",
   "execution_count": 29,
   "outputs": [
    {
     "data": {
      "text/plain": "(17712, 22)"
     },
     "execution_count": 29,
     "metadata": {},
     "output_type": "execute_result"
    }
   ],
   "source": [
    "df_movie.shape"
   ],
   "metadata": {
    "collapsed": false,
    "ExecuteTime": {
     "end_time": "2023-10-17T14:30:40.679750600Z",
     "start_time": "2023-10-17T14:30:40.413718700Z"
    }
   },
   "id": "be45ce7b4e486e7b"
  },
  {
   "cell_type": "code",
   "execution_count": 30,
   "outputs": [
    {
     "data": {
      "text/plain": "  rotten_tomatoes_link      critic_name  top_critic           publisher_name  \\\n0            m/0814255  Andrew L. Urban       False           Urban Cinefile   \n1            m/0814255    Louise Keller       False           Urban Cinefile   \n2            m/0814255              NaN       False      FILMINK (Australia)   \n3            m/0814255     Ben McEachen       False  Sunday Mail (Australia)   \n4            m/0814255      Ethan Alter        True       Hollywood Reporter   \n\n  review_type review_score review_date  \\\n0       Fresh          NaN  2010-02-06   \n1       Fresh          NaN  2010-02-06   \n2       Fresh          NaN  2010-02-09   \n3       Fresh        3.5/5  2010-02-09   \n4      Rotten          NaN  2010-02-10   \n\n                                      review_content  \n0  A fantasy adventure that fuses Greek mythology...  \n1  Uma Thurman as Medusa, the gorgon with a coiff...  \n2  With a top-notch cast and dazzling special eff...  \n3  Whether audiences will get behind The Lightnin...  \n4  What's really lacking in The Lightning Thief i...  ",
      "text/html": "<div>\n<style scoped>\n    .dataframe tbody tr th:only-of-type {\n        vertical-align: middle;\n    }\n\n    .dataframe tbody tr th {\n        vertical-align: top;\n    }\n\n    .dataframe thead th {\n        text-align: right;\n    }\n</style>\n<table border=\"1\" class=\"dataframe\">\n  <thead>\n    <tr style=\"text-align: right;\">\n      <th></th>\n      <th>rotten_tomatoes_link</th>\n      <th>critic_name</th>\n      <th>top_critic</th>\n      <th>publisher_name</th>\n      <th>review_type</th>\n      <th>review_score</th>\n      <th>review_date</th>\n      <th>review_content</th>\n    </tr>\n  </thead>\n  <tbody>\n    <tr>\n      <th>0</th>\n      <td>m/0814255</td>\n      <td>Andrew L. Urban</td>\n      <td>False</td>\n      <td>Urban Cinefile</td>\n      <td>Fresh</td>\n      <td>NaN</td>\n      <td>2010-02-06</td>\n      <td>A fantasy adventure that fuses Greek mythology...</td>\n    </tr>\n    <tr>\n      <th>1</th>\n      <td>m/0814255</td>\n      <td>Louise Keller</td>\n      <td>False</td>\n      <td>Urban Cinefile</td>\n      <td>Fresh</td>\n      <td>NaN</td>\n      <td>2010-02-06</td>\n      <td>Uma Thurman as Medusa, the gorgon with a coiff...</td>\n    </tr>\n    <tr>\n      <th>2</th>\n      <td>m/0814255</td>\n      <td>NaN</td>\n      <td>False</td>\n      <td>FILMINK (Australia)</td>\n      <td>Fresh</td>\n      <td>NaN</td>\n      <td>2010-02-09</td>\n      <td>With a top-notch cast and dazzling special eff...</td>\n    </tr>\n    <tr>\n      <th>3</th>\n      <td>m/0814255</td>\n      <td>Ben McEachen</td>\n      <td>False</td>\n      <td>Sunday Mail (Australia)</td>\n      <td>Fresh</td>\n      <td>3.5/5</td>\n      <td>2010-02-09</td>\n      <td>Whether audiences will get behind The Lightnin...</td>\n    </tr>\n    <tr>\n      <th>4</th>\n      <td>m/0814255</td>\n      <td>Ethan Alter</td>\n      <td>True</td>\n      <td>Hollywood Reporter</td>\n      <td>Rotten</td>\n      <td>NaN</td>\n      <td>2010-02-10</td>\n      <td>What's really lacking in The Lightning Thief i...</td>\n    </tr>\n  </tbody>\n</table>\n</div>"
     },
     "execution_count": 30,
     "metadata": {},
     "output_type": "execute_result"
    }
   ],
   "source": [
    "df_critics = pd.read_csv('rotten_tomatoes_critic_reviews.csv')\n",
    "df_critics.head()"
   ],
   "metadata": {
    "collapsed": false,
    "ExecuteTime": {
     "end_time": "2023-10-17T14:30:42.991915500Z",
     "start_time": "2023-10-17T14:30:40.420597600Z"
    }
   },
   "id": "4b0fc530f3e378e1"
  },
  {
   "cell_type": "code",
   "execution_count": 31,
   "outputs": [
    {
     "data": {
      "text/plain": "(1130017, 8)"
     },
     "execution_count": 31,
     "metadata": {},
     "output_type": "execute_result"
    }
   ],
   "source": [
    "df_critics.shape"
   ],
   "metadata": {
    "collapsed": false,
    "ExecuteTime": {
     "end_time": "2023-10-17T14:30:42.991915500Z",
     "start_time": "2023-10-17T14:30:42.986900900Z"
    }
   },
   "id": "7b9161b4cb44c107"
  },
  {
   "cell_type": "code",
   "execution_count": 32,
   "outputs": [
    {
     "data": {
      "text/plain": "  rotten_tomatoes_link      critic_name  top_critic           publisher_name  \\\n0            m/0814255  Andrew L. Urban       False           Urban Cinefile   \n1            m/0814255    Louise Keller       False           Urban Cinefile   \n2            m/0814255              NaN       False      FILMINK (Australia)   \n3            m/0814255     Ben McEachen       False  Sunday Mail (Australia)   \n4            m/0814255      Ethan Alter        True       Hollywood Reporter   \n\n  review_type review_score review_date  \\\n0       Fresh          NaN  2010-02-06   \n1       Fresh          NaN  2010-02-06   \n2       Fresh          NaN  2010-02-09   \n3       Fresh        3.5/5  2010-02-09   \n4      Rotten          NaN  2010-02-10   \n\n                                      review_content  \\\n0  A fantasy adventure that fuses Greek mythology...   \n1  Uma Thurman as Medusa, the gorgon with a coiff...   \n2  With a top-notch cast and dazzling special eff...   \n3  Whether audiences will get behind The Lightnin...   \n4  What's really lacking in The Lightning Thief i...   \n\n                                         movie_title  \\\n0  Percy Jackson & the Olympians: The Lightning T...   \n1  Percy Jackson & the Olympians: The Lightning T...   \n2  Percy Jackson & the Olympians: The Lightning T...   \n3  Percy Jackson & the Olympians: The Lightning T...   \n4  Percy Jackson & the Olympians: The Lightning T...   \n\n                                          movie_info  ... production_company  \\\n0  Always trouble-prone, the life of teenager Per...  ...   20th Century Fox   \n1  Always trouble-prone, the life of teenager Per...  ...   20th Century Fox   \n2  Always trouble-prone, the life of teenager Per...  ...   20th Century Fox   \n3  Always trouble-prone, the life of teenager Per...  ...   20th Century Fox   \n4  Always trouble-prone, the life of teenager Per...  ...   20th Century Fox   \n\n  tomatometer_status tomatometer_rating tomatometer_count audience_status  \\\n0             Rotten               49.0             149.0         Spilled   \n1             Rotten               49.0             149.0         Spilled   \n2             Rotten               49.0             149.0         Spilled   \n3             Rotten               49.0             149.0         Spilled   \n4             Rotten               49.0             149.0         Spilled   \n\n  audience_rating audience_count tomatometer_top_critics_count  \\\n0            53.0       254421.0                            43   \n1            53.0       254421.0                            43   \n2            53.0       254421.0                            43   \n3            53.0       254421.0                            43   \n4            53.0       254421.0                            43   \n\n   tomatometer_fresh_critics_count tomatometer_rotten_critics_count  \n0                               73                               76  \n1                               73                               76  \n2                               73                               76  \n3                               73                               76  \n4                               73                               76  \n\n[5 rows x 29 columns]",
      "text/html": "<div>\n<style scoped>\n    .dataframe tbody tr th:only-of-type {\n        vertical-align: middle;\n    }\n\n    .dataframe tbody tr th {\n        vertical-align: top;\n    }\n\n    .dataframe thead th {\n        text-align: right;\n    }\n</style>\n<table border=\"1\" class=\"dataframe\">\n  <thead>\n    <tr style=\"text-align: right;\">\n      <th></th>\n      <th>rotten_tomatoes_link</th>\n      <th>critic_name</th>\n      <th>top_critic</th>\n      <th>publisher_name</th>\n      <th>review_type</th>\n      <th>review_score</th>\n      <th>review_date</th>\n      <th>review_content</th>\n      <th>movie_title</th>\n      <th>movie_info</th>\n      <th>...</th>\n      <th>production_company</th>\n      <th>tomatometer_status</th>\n      <th>tomatometer_rating</th>\n      <th>tomatometer_count</th>\n      <th>audience_status</th>\n      <th>audience_rating</th>\n      <th>audience_count</th>\n      <th>tomatometer_top_critics_count</th>\n      <th>tomatometer_fresh_critics_count</th>\n      <th>tomatometer_rotten_critics_count</th>\n    </tr>\n  </thead>\n  <tbody>\n    <tr>\n      <th>0</th>\n      <td>m/0814255</td>\n      <td>Andrew L. Urban</td>\n      <td>False</td>\n      <td>Urban Cinefile</td>\n      <td>Fresh</td>\n      <td>NaN</td>\n      <td>2010-02-06</td>\n      <td>A fantasy adventure that fuses Greek mythology...</td>\n      <td>Percy Jackson &amp; the Olympians: The Lightning T...</td>\n      <td>Always trouble-prone, the life of teenager Per...</td>\n      <td>...</td>\n      <td>20th Century Fox</td>\n      <td>Rotten</td>\n      <td>49.0</td>\n      <td>149.0</td>\n      <td>Spilled</td>\n      <td>53.0</td>\n      <td>254421.0</td>\n      <td>43</td>\n      <td>73</td>\n      <td>76</td>\n    </tr>\n    <tr>\n      <th>1</th>\n      <td>m/0814255</td>\n      <td>Louise Keller</td>\n      <td>False</td>\n      <td>Urban Cinefile</td>\n      <td>Fresh</td>\n      <td>NaN</td>\n      <td>2010-02-06</td>\n      <td>Uma Thurman as Medusa, the gorgon with a coiff...</td>\n      <td>Percy Jackson &amp; the Olympians: The Lightning T...</td>\n      <td>Always trouble-prone, the life of teenager Per...</td>\n      <td>...</td>\n      <td>20th Century Fox</td>\n      <td>Rotten</td>\n      <td>49.0</td>\n      <td>149.0</td>\n      <td>Spilled</td>\n      <td>53.0</td>\n      <td>254421.0</td>\n      <td>43</td>\n      <td>73</td>\n      <td>76</td>\n    </tr>\n    <tr>\n      <th>2</th>\n      <td>m/0814255</td>\n      <td>NaN</td>\n      <td>False</td>\n      <td>FILMINK (Australia)</td>\n      <td>Fresh</td>\n      <td>NaN</td>\n      <td>2010-02-09</td>\n      <td>With a top-notch cast and dazzling special eff...</td>\n      <td>Percy Jackson &amp; the Olympians: The Lightning T...</td>\n      <td>Always trouble-prone, the life of teenager Per...</td>\n      <td>...</td>\n      <td>20th Century Fox</td>\n      <td>Rotten</td>\n      <td>49.0</td>\n      <td>149.0</td>\n      <td>Spilled</td>\n      <td>53.0</td>\n      <td>254421.0</td>\n      <td>43</td>\n      <td>73</td>\n      <td>76</td>\n    </tr>\n    <tr>\n      <th>3</th>\n      <td>m/0814255</td>\n      <td>Ben McEachen</td>\n      <td>False</td>\n      <td>Sunday Mail (Australia)</td>\n      <td>Fresh</td>\n      <td>3.5/5</td>\n      <td>2010-02-09</td>\n      <td>Whether audiences will get behind The Lightnin...</td>\n      <td>Percy Jackson &amp; the Olympians: The Lightning T...</td>\n      <td>Always trouble-prone, the life of teenager Per...</td>\n      <td>...</td>\n      <td>20th Century Fox</td>\n      <td>Rotten</td>\n      <td>49.0</td>\n      <td>149.0</td>\n      <td>Spilled</td>\n      <td>53.0</td>\n      <td>254421.0</td>\n      <td>43</td>\n      <td>73</td>\n      <td>76</td>\n    </tr>\n    <tr>\n      <th>4</th>\n      <td>m/0814255</td>\n      <td>Ethan Alter</td>\n      <td>True</td>\n      <td>Hollywood Reporter</td>\n      <td>Rotten</td>\n      <td>NaN</td>\n      <td>2010-02-10</td>\n      <td>What's really lacking in The Lightning Thief i...</td>\n      <td>Percy Jackson &amp; the Olympians: The Lightning T...</td>\n      <td>Always trouble-prone, the life of teenager Per...</td>\n      <td>...</td>\n      <td>20th Century Fox</td>\n      <td>Rotten</td>\n      <td>49.0</td>\n      <td>149.0</td>\n      <td>Spilled</td>\n      <td>53.0</td>\n      <td>254421.0</td>\n      <td>43</td>\n      <td>73</td>\n      <td>76</td>\n    </tr>\n  </tbody>\n</table>\n<p>5 rows × 29 columns</p>\n</div>"
     },
     "execution_count": 32,
     "metadata": {},
     "output_type": "execute_result"
    }
   ],
   "source": [
    "df_merged = df_critics.merge(df_movie, how='inner', on='rotten_tomatoes_link')\n",
    "df_merged.head()"
   ],
   "metadata": {
    "collapsed": false,
    "ExecuteTime": {
     "end_time": "2023-10-17T14:30:43.494748100Z",
     "start_time": "2023-10-17T14:30:42.991915500Z"
    }
   },
   "id": "41a2973d4e6d30e4"
  },
  {
   "cell_type": "code",
   "execution_count": 33,
   "outputs": [
    {
     "data": {
      "text/plain": "  rotten_tomatoes_link                                        movie_title  \\\n0            m/0814255  Percy Jackson & the Olympians: The Lightning T...   \n1            m/0814255  Percy Jackson & the Olympians: The Lightning T...   \n2            m/0814255  Percy Jackson & the Olympians: The Lightning T...   \n3            m/0814255  Percy Jackson & the Olympians: The Lightning T...   \n4            m/0814255  Percy Jackson & the Olympians: The Lightning T...   \n\n                                      review_content review_type  \\\n0  A fantasy adventure that fuses Greek mythology...       Fresh   \n1  Uma Thurman as Medusa, the gorgon with a coiff...       Fresh   \n2  With a top-notch cast and dazzling special eff...       Fresh   \n3  Whether audiences will get behind The Lightnin...       Fresh   \n4  What's really lacking in The Lightning Thief i...      Rotten   \n\n  tomatometer_status  \n0             Rotten  \n1             Rotten  \n2             Rotten  \n3             Rotten  \n4             Rotten  ",
      "text/html": "<div>\n<style scoped>\n    .dataframe tbody tr th:only-of-type {\n        vertical-align: middle;\n    }\n\n    .dataframe tbody tr th {\n        vertical-align: top;\n    }\n\n    .dataframe thead th {\n        text-align: right;\n    }\n</style>\n<table border=\"1\" class=\"dataframe\">\n  <thead>\n    <tr style=\"text-align: right;\">\n      <th></th>\n      <th>rotten_tomatoes_link</th>\n      <th>movie_title</th>\n      <th>review_content</th>\n      <th>review_type</th>\n      <th>tomatometer_status</th>\n    </tr>\n  </thead>\n  <tbody>\n    <tr>\n      <th>0</th>\n      <td>m/0814255</td>\n      <td>Percy Jackson &amp; the Olympians: The Lightning T...</td>\n      <td>A fantasy adventure that fuses Greek mythology...</td>\n      <td>Fresh</td>\n      <td>Rotten</td>\n    </tr>\n    <tr>\n      <th>1</th>\n      <td>m/0814255</td>\n      <td>Percy Jackson &amp; the Olympians: The Lightning T...</td>\n      <td>Uma Thurman as Medusa, the gorgon with a coiff...</td>\n      <td>Fresh</td>\n      <td>Rotten</td>\n    </tr>\n    <tr>\n      <th>2</th>\n      <td>m/0814255</td>\n      <td>Percy Jackson &amp; the Olympians: The Lightning T...</td>\n      <td>With a top-notch cast and dazzling special eff...</td>\n      <td>Fresh</td>\n      <td>Rotten</td>\n    </tr>\n    <tr>\n      <th>3</th>\n      <td>m/0814255</td>\n      <td>Percy Jackson &amp; the Olympians: The Lightning T...</td>\n      <td>Whether audiences will get behind The Lightnin...</td>\n      <td>Fresh</td>\n      <td>Rotten</td>\n    </tr>\n    <tr>\n      <th>4</th>\n      <td>m/0814255</td>\n      <td>Percy Jackson &amp; the Olympians: The Lightning T...</td>\n      <td>What's really lacking in The Lightning Thief i...</td>\n      <td>Rotten</td>\n      <td>Rotten</td>\n    </tr>\n  </tbody>\n</table>\n</div>"
     },
     "execution_count": 33,
     "metadata": {},
     "output_type": "execute_result"
    }
   ],
   "source": [
    "#Merging the two dataframes\n",
    "df_merged = df_merged[['rotten_tomatoes_link', 'movie_title', 'review_content', 'review_type', 'tomatometer_status']]\n",
    "df_merged.head()"
   ],
   "metadata": {
    "collapsed": false,
    "ExecuteTime": {
     "end_time": "2023-10-17T14:30:43.528457700Z",
     "start_time": "2023-10-17T14:30:43.478317400Z"
    }
   },
   "id": "c6cdfdecae75e0b1"
  },
  {
   "cell_type": "code",
   "execution_count": 34,
   "outputs": [
    {
     "name": "stdout",
     "output_type": "stream",
     "text": [
      "<class 'pandas.core.frame.DataFrame'>\n",
      "RangeIndex: 1129887 entries, 0 to 1129886\n",
      "Data columns (total 5 columns):\n",
      " #   Column                Non-Null Count    Dtype \n",
      "---  ------                --------------    ----- \n",
      " 0   rotten_tomatoes_link  1129887 non-null  object\n",
      " 1   movie_title           1129887 non-null  object\n",
      " 2   review_content        1064109 non-null  object\n",
      " 3   review_type           1129887 non-null  object\n",
      " 4   tomatometer_status    1128421 non-null  object\n",
      "dtypes: object(5)\n",
      "memory usage: 43.1+ MB\n"
     ]
    }
   ],
   "source": [
    "df_merged.info()"
   ],
   "metadata": {
    "collapsed": false,
    "ExecuteTime": {
     "end_time": "2023-10-17T14:30:43.683376Z",
     "start_time": "2023-10-17T14:30:43.528457700Z"
    }
   },
   "id": "ba455a5ac888a283"
  },
  {
   "cell_type": "markdown",
   "source": [
    "Data Cleaning"
   ],
   "metadata": {
    "collapsed": false
   },
   "id": "b0907a31cd94a049"
  },
  {
   "cell_type": "code",
   "execution_count": 35,
   "outputs": [
    {
     "data": {
      "text/plain": "rotten_tomatoes_link        0\nmovie_title                 0\nreview_content          65778\nreview_type                 0\ntomatometer_status       1466\ndtype: int64"
     },
     "execution_count": 35,
     "metadata": {},
     "output_type": "execute_result"
    }
   ],
   "source": [
    "df_merged.isnull().sum()"
   ],
   "metadata": {
    "collapsed": false,
    "ExecuteTime": {
     "end_time": "2023-10-17T14:30:43.808700500Z",
     "start_time": "2023-10-17T14:30:43.669869800Z"
    }
   },
   "id": "2d7ba7f4eee2ed39"
  },
  {
   "cell_type": "code",
   "execution_count": 36,
   "outputs": [],
   "source": [
    "df_merged.dropna(axis=0, inplace=True)"
   ],
   "metadata": {
    "collapsed": false,
    "ExecuteTime": {
     "end_time": "2023-10-17T14:30:43.970299200Z",
     "start_time": "2023-10-17T14:30:43.801695500Z"
    }
   },
   "id": "2844e2de34cc991b"
  },
  {
   "cell_type": "code",
   "execution_count": 37,
   "outputs": [
    {
     "data": {
      "text/plain": "[Text(0, 0, '680045'), Text(0, 0, '382703')]"
     },
     "execution_count": 37,
     "metadata": {},
     "output_type": "execute_result"
    },
    {
     "data": {
      "text/plain": "<Figure size 640x480 with 1 Axes>",
      "image/png": "[encoded data removed]"
     },
     "metadata": {},
     "output_type": "display_data"
    }
   ],
   "source": [
    "ax = sns.countplot(data=df_merged, y='review_type')\n",
    "plt.bar_label(ax.containers[0])"
   ],
   "metadata": {
    "collapsed": false,
    "ExecuteTime": {
     "end_time": "2023-10-17T14:30:44.488773100Z",
     "start_time": "2023-10-17T14:30:43.970299200Z"
    }
   },
   "id": "9467590b1488f5c4"
  },
  {
   "cell_type": "code",
   "execution_count": 38,
   "outputs": [
    {
     "data": {
      "text/plain": "                                      review_content  review_type\n0  A fantasy adventure that fuses Greek mythology...            1\n1  Uma Thurman as Medusa, the gorgon with a coiff...            1\n2  With a top-notch cast and dazzling special eff...            1\n3  Whether audiences will get behind The Lightnin...            1\n4  What's really lacking in The Lightning Thief i...            0",
      "text/html": "<div>\n<style scoped>\n    .dataframe tbody tr th:only-of-type {\n        vertical-align: middle;\n    }\n\n    .dataframe tbody tr th {\n        vertical-align: top;\n    }\n\n    .dataframe thead th {\n        text-align: right;\n    }\n</style>\n<table border=\"1\" class=\"dataframe\">\n  <thead>\n    <tr style=\"text-align: right;\">\n      <th></th>\n      <th>review_content</th>\n      <th>review_type</th>\n    </tr>\n  </thead>\n  <tbody>\n    <tr>\n      <th>0</th>\n      <td>A fantasy adventure that fuses Greek mythology...</td>\n      <td>1</td>\n    </tr>\n    <tr>\n      <th>1</th>\n      <td>Uma Thurman as Medusa, the gorgon with a coiff...</td>\n      <td>1</td>\n    </tr>\n    <tr>\n      <th>2</th>\n      <td>With a top-notch cast and dazzling special eff...</td>\n      <td>1</td>\n    </tr>\n    <tr>\n      <th>3</th>\n      <td>Whether audiences will get behind The Lightnin...</td>\n      <td>1</td>\n    </tr>\n    <tr>\n      <th>4</th>\n      <td>What's really lacking in The Lightning Thief i...</td>\n      <td>0</td>\n    </tr>\n  </tbody>\n</table>\n</div>"
     },
     "execution_count": 38,
     "metadata": {},
     "output_type": "execute_result"
    }
   ],
   "source": [
    "#Pick only 5000 entries from the original data\n",
    "df_sub = df_merged[:5000]\n",
    "\n",
    "#Encode the labels\n",
    "review_type = pd.DataFrame(df_sub['review_type'].replace(['Rotten', 'Fresh'], [0, 1]))\n",
    "\n",
    "#Final DataFrame\n",
    "df_feature_critics = pd.concat([df_sub['review_content'], review_type], axis=1)\n",
    "df_feature_critics.head()"
   ],
   "metadata": {
    "collapsed": false,
    "ExecuteTime": {
     "end_time": "2023-10-17T14:30:44.538068200Z",
     "start_time": "2023-10-17T14:30:44.496956300Z"
    }
   },
   "id": "29b82675ed722337"
  },
  {
   "cell_type": "markdown",
   "source": [
    "Splitting the data"
   ],
   "metadata": {
    "collapsed": false
   },
   "id": "bee1d5cd6b9c5c18"
  },
  {
   "cell_type": "code",
   "execution_count": 39,
   "outputs": [],
   "source": [
    "X_train, X_test, y_train, y_test = train_test_split(\n",
    "    df_feature_critics['review_content'],\n",
    "    df_feature_critics['review_type'],\n",
    "    test_size=0.2,\n",
    "    random_state=42\n",
    ")"
   ],
   "metadata": {
    "collapsed": false,
    "ExecuteTime": {
     "end_time": "2023-10-17T14:30:44.538068200Z",
     "start_time": "2023-10-17T14:30:44.528317200Z"
    }
   },
   "id": "80eab8858866aa4"
  },
  {
   "cell_type": "code",
   "execution_count": 40,
   "outputs": [
    {
     "name": "stdout",
     "output_type": "stream",
     "text": [
      "train size: 4000\n",
      "test size: 1000\n"
     ]
    }
   ],
   "source": [
    "print(f'train size: {X_train.shape[0]}\\ntest size: {X_test.shape[0]}')"
   ],
   "metadata": {
    "collapsed": false,
    "ExecuteTime": {
     "end_time": "2023-10-17T14:30:44.538068200Z",
     "start_time": "2023-10-17T14:30:44.533367600Z"
    }
   },
   "id": "a2af37d39a652a1"
  },
  {
   "cell_type": "markdown",
   "source": [
    "Tokenization"
   ],
   "metadata": {
    "collapsed": false
   },
   "id": "3fe4de588b48e46f"
  },
  {
   "cell_type": "code",
   "execution_count": 41,
   "outputs": [],
   "source": [
    "vectorizer = CountVectorizer(min_df=1)\n",
    "X_train_vec = vectorizer.fit_transform(X_train).toarray()"
   ],
   "metadata": {
    "collapsed": false,
    "ExecuteTime": {
     "end_time": "2023-10-17T14:30:44.685331100Z",
     "start_time": "2023-10-17T14:30:44.544077400Z"
    }
   },
   "id": "33b87cec65d6c14e"
  },
  {
   "cell_type": "code",
   "execution_count": 42,
   "outputs": [
    {
     "data": {
      "text/plain": "(4000, 11692)"
     },
     "execution_count": 42,
     "metadata": {},
     "output_type": "execute_result"
    }
   ],
   "source": [
    "X_train_vec.shape"
   ],
   "metadata": {
    "collapsed": false,
    "ExecuteTime": {
     "end_time": "2023-10-17T14:30:44.685331100Z",
     "start_time": "2023-10-17T14:30:44.672780600Z"
    }
   },
   "id": "6507dbe813c42234"
  },
  {
   "cell_type": "markdown",
   "source": [
    "Random Forest Model"
   ],
   "metadata": {
    "collapsed": false
   },
   "id": "83f53757822c20b4"
  },
  {
   "cell_type": "code",
   "execution_count": 43,
   "outputs": [],
   "source": [
    "random_forest = RandomForestClassifier(random_state=2)\n",
    "random_forest.fit(X_train_vec, y_train)\n",
    "y_predict = random_forest.predict(vectorizer.transform(X_test).toarray())"
   ],
   "metadata": {
    "collapsed": false,
    "ExecuteTime": {
     "end_time": "2023-10-17T14:31:09.229867700Z",
     "start_time": "2023-10-17T14:30:44.678325Z"
    }
   },
   "id": "15b41a0694afba78"
  },
  {
   "cell_type": "code",
   "execution_count": 44,
   "outputs": [
    {
     "name": "stdout",
     "output_type": "stream",
     "text": [
      "              precision    recall  f1-score   support\n",
      "\n",
      "           0       0.65      0.65      0.65       448\n",
      "           1       0.72      0.72      0.72       552\n",
      "\n",
      "    accuracy                           0.69      1000\n",
      "   macro avg       0.68      0.68      0.68      1000\n",
      "weighted avg       0.69      0.69      0.69      1000\n"
     ]
    }
   ],
   "source": [
    "print(classification_report(y_test, y_predict))"
   ],
   "metadata": {
    "collapsed": false,
    "ExecuteTime": {
     "end_time": "2023-10-17T14:31:09.242125500Z",
     "start_time": "2023-10-17T14:31:09.229867700Z"
    }
   },
   "id": "d473c0e55b5ad66d"
  },
  {
   "cell_type": "code",
   "execution_count": 45,
   "outputs": [
    {
     "name": "stdout",
     "output_type": "stream",
     "text": [
      "[[293 155]\n",
      " [157 395]]\n"
     ]
    },
    {
     "data": {
      "text/plain": "Text(50.722222222222214, 0.5, 'ACTUAL')"
     },
     "execution_count": 45,
     "metadata": {},
     "output_type": "execute_result"
    },
    {
     "data": {
      "text/plain": "<Figure size 640x480 with 2 Axes>",
      "image/png": "[encoded data removed]"
     },
     "metadata": {},
     "output_type": "display_data"
    }
   ],
   "source": [
    "print(confusion_matrix(y_test, y_predict))\n",
    "sns.heatmap(confusion_matrix(y_test, y_predict), annot=True)\n",
    "plt.xlabel('PREDICT')\n",
    "plt.ylabel('ACTUAL')"
   ],
   "metadata": {
    "collapsed": false,
    "ExecuteTime": {
     "end_time": "2023-10-17T14:31:09.397198300Z",
     "start_time": "2023-10-17T14:31:09.242125500Z"
    }
   },
   "id": "156d0337180dd530"
  },
  {
   "cell_type": "code",
   "execution_count": 46,
   "outputs": [
    {
     "data": {
      "text/plain": "{0: 1.058425063505504, 1: 0.9476876421531463}"
     },
     "execution_count": 46,
     "metadata": {},
     "output_type": "execute_result"
    }
   ],
   "source": [
    "class_weight = compute_class_weight(class_weight='balanced', classes=np.unique(df_feature_critics['review_type']), y=df_feature_critics['review_type'].values)\n",
    "class_weight_dict = dict(zip(range(len(class_weight.tolist())), class_weight.tolist()))\n",
    "class_weight_dict"
   ],
   "metadata": {
    "collapsed": false,
    "ExecuteTime": {
     "end_time": "2023-10-17T14:31:09.404442400Z",
     "start_time": "2023-10-17T14:31:09.399205600Z"
    }
   },
   "id": "aff72c5a1b870180"
  },
  {
   "cell_type": "code",
   "execution_count": 47,
   "outputs": [],
   "source": [
    "random_forest_weighted = RandomForestClassifier(random_state=2, class_weight=class_weight_dict)\n",
    "random_forest_weighted.fit(X_train_vec, y_train)\n",
    "y_predict = random_forest_weighted.predict(vectorizer.transform(X_test).toarray())"
   ],
   "metadata": {
    "collapsed": false,
    "ExecuteTime": {
     "end_time": "2023-10-17T14:31:34.562224500Z",
     "start_time": "2023-10-17T14:31:09.404442400Z"
    }
   },
   "id": "5b76d92b2dd8ee2d"
  },
  {
   "cell_type": "code",
   "execution_count": 48,
   "outputs": [
    {
     "name": "stdout",
     "output_type": "stream",
     "text": [
      "              precision    recall  f1-score   support\n",
      "\n",
      "           0       0.64      0.72      0.68       448\n",
      "           1       0.74      0.67      0.70       552\n",
      "\n",
      "    accuracy                           0.69      1000\n",
      "   macro avg       0.69      0.69      0.69      1000\n",
      "weighted avg       0.70      0.69      0.69      1000\n"
     ]
    }
   ],
   "source": [
    "print(classification_report(y_test, y_predict))"
   ],
   "metadata": {
    "collapsed": false,
    "ExecuteTime": {
     "end_time": "2023-10-17T14:31:34.562224500Z",
     "start_time": "2023-10-17T14:31:34.527531200Z"
    }
   },
   "id": "ed65460be24358bd"
  },
  {
   "cell_type": "code",
   "execution_count": 49,
   "outputs": [
    {
     "name": "stdout",
     "output_type": "stream",
     "text": [
      "[[322 126]\n",
      " [184 368]]\n"
     ]
    },
    {
     "data": {
      "text/plain": "Text(50.722222222222214, 0.5, 'ACTUAL')"
     },
     "execution_count": 49,
     "metadata": {},
     "output_type": "execute_result"
    },
    {
     "data": {
      "text/plain": "<Figure size 640x480 with 2 Axes>",
      "image/png": "[encoded data removed]"
     },
     "metadata": {},
     "output_type": "display_data"
    }
   ],
   "source": [
    "print(confusion_matrix(y_test, y_predict))\n",
    "sns.heatmap(confusion_matrix(y_test, y_predict), annot=True)\n",
    "plt.xlabel('PREDICT')\n",
    "plt.ylabel('ACTUAL')"
   ],
   "metadata": {
    "collapsed": false,
    "ExecuteTime": {
     "end_time": "2023-10-17T14:31:34.735353600Z",
     "start_time": "2023-10-17T14:31:34.541061900Z"
    }
   },
   "id": "784a8f6acefbf475"
  },
  {
   "cell_type": "code",
   "execution_count": 53,
   "outputs": [],
   "source": [
    "def predict_movie_status(prediction):\n",
    "    positive_percentage = (prediction == 1).sum() / len(prediction) * 100\n",
    "    prediction = 'Fresh' if positive_percentage >= 60 else 'Rotten'\n",
    "    print(f'Positive review: {positive_percentage:.2f}%')\n",
    "    print(f'Movies status: {prediction}')"
   ],
   "metadata": {
    "collapsed": false,
    "ExecuteTime": {
     "end_time": "2023-10-17T14:33:19.406308Z",
     "start_time": "2023-10-17T14:33:19.381673700Z"
    }
   },
   "id": "68dbb1e9699d6a99"
  },
  {
   "cell_type": "markdown",
   "source": [
    "Predictions"
   ],
   "metadata": {
    "collapsed": false
   },
   "id": "13394c058fd446bd"
  },
  {
   "cell_type": "code",
   "execution_count": 54,
   "outputs": [
    {
     "data": {
      "text/plain": "         rotten_tomatoes_link   movie_title  \\\n7382  m/10009225-body_of_lies  Body of Lies   \n7383  m/10009225-body_of_lies  Body of Lies   \n7384  m/10009225-body_of_lies  Body of Lies   \n7385  m/10009225-body_of_lies  Body of Lies   \n7386  m/10009225-body_of_lies  Body of Lies   \n...                       ...           ...   \n7590  m/10009225-body_of_lies  Body of Lies   \n7591  m/10009225-body_of_lies  Body of Lies   \n7592  m/10009225-body_of_lies  Body of Lies   \n7593  m/10009225-body_of_lies  Body of Lies   \n7594  m/10009225-body_of_lies  Body of Lies   \n\n                                         review_content review_type  \\\n7382  DiCaprio (not Crowe) is in top form in Scott's...       Fresh   \n7383  Neither the location-based verisimilitude of R...      Rotten   \n7384  DiCaprio gives the role plenty of brio, while ...       Fresh   \n7385  Convincing and gripping, Body of Lies is at th...       Fresh   \n7386  Lies and consequences form the heart of this b...       Fresh   \n...                                                 ...         ...   \n7590  A revealing, original and extremely dramatic f...       Fresh   \n7591  The action sequences lack pizzazz and feel dec...      Rotten   \n7592  Body of Lies is a well-made film, but lacks th...      Rotten   \n7593  Body of Lies, on the whole, is a retrograde fa...       Fresh   \n7594  Rises above the mediocrity of its storyline th...       Fresh   \n\n     tomatometer_status  \n7382             Rotten  \n7383             Rotten  \n7384             Rotten  \n7385             Rotten  \n7386             Rotten  \n...                 ...  \n7590             Rotten  \n7591             Rotten  \n7592             Rotten  \n7593             Rotten  \n7594             Rotten  \n\n[204 rows x 5 columns]",
      "text/html": "<div>\n<style scoped>\n    .dataframe tbody tr th:only-of-type {\n        vertical-align: middle;\n    }\n\n    .dataframe tbody tr th {\n        vertical-align: top;\n    }\n\n    .dataframe thead th {\n        text-align: right;\n    }\n</style>\n<table border=\"1\" class=\"dataframe\">\n  <thead>\n    <tr style=\"text-align: right;\">\n      <th></th>\n      <th>rotten_tomatoes_link</th>\n      <th>movie_title</th>\n      <th>review_content</th>\n      <th>review_type</th>\n      <th>tomatometer_status</th>\n    </tr>\n  </thead>\n  <tbody>\n    <tr>\n      <th>7382</th>\n      <td>m/10009225-body_of_lies</td>\n      <td>Body of Lies</td>\n      <td>DiCaprio (not Crowe) is in top form in Scott's...</td>\n      <td>Fresh</td>\n      <td>Rotten</td>\n    </tr>\n    <tr>\n      <th>7383</th>\n      <td>m/10009225-body_of_lies</td>\n      <td>Body of Lies</td>\n      <td>Neither the location-based verisimilitude of R...</td>\n      <td>Rotten</td>\n      <td>Rotten</td>\n    </tr>\n    <tr>\n      <th>7384</th>\n      <td>m/10009225-body_of_lies</td>\n      <td>Body of Lies</td>\n      <td>DiCaprio gives the role plenty of brio, while ...</td>\n      <td>Fresh</td>\n      <td>Rotten</td>\n    </tr>\n    <tr>\n      <th>7385</th>\n      <td>m/10009225-body_of_lies</td>\n      <td>Body of Lies</td>\n      <td>Convincing and gripping, Body of Lies is at th...</td>\n      <td>Fresh</td>\n      <td>Rotten</td>\n    </tr>\n    <tr>\n      <th>7386</th>\n      <td>m/10009225-body_of_lies</td>\n      <td>Body of Lies</td>\n      <td>Lies and consequences form the heart of this b...</td>\n      <td>Fresh</td>\n      <td>Rotten</td>\n    </tr>\n    <tr>\n      <th>...</th>\n      <td>...</td>\n      <td>...</td>\n      <td>...</td>\n      <td>...</td>\n      <td>...</td>\n    </tr>\n    <tr>\n      <th>7590</th>\n      <td>m/10009225-body_of_lies</td>\n      <td>Body of Lies</td>\n      <td>A revealing, original and extremely dramatic f...</td>\n      <td>Fresh</td>\n      <td>Rotten</td>\n    </tr>\n    <tr>\n      <th>7591</th>\n      <td>m/10009225-body_of_lies</td>\n      <td>Body of Lies</td>\n      <td>The action sequences lack pizzazz and feel dec...</td>\n      <td>Rotten</td>\n      <td>Rotten</td>\n    </tr>\n    <tr>\n      <th>7592</th>\n      <td>m/10009225-body_of_lies</td>\n      <td>Body of Lies</td>\n      <td>Body of Lies is a well-made film, but lacks th...</td>\n      <td>Rotten</td>\n      <td>Rotten</td>\n    </tr>\n    <tr>\n      <th>7593</th>\n      <td>m/10009225-body_of_lies</td>\n      <td>Body of Lies</td>\n      <td>Body of Lies, on the whole, is a retrograde fa...</td>\n      <td>Fresh</td>\n      <td>Rotten</td>\n    </tr>\n    <tr>\n      <th>7594</th>\n      <td>m/10009225-body_of_lies</td>\n      <td>Body of Lies</td>\n      <td>Rises above the mediocrity of its storyline th...</td>\n      <td>Fresh</td>\n      <td>Rotten</td>\n    </tr>\n  </tbody>\n</table>\n<p>204 rows × 5 columns</p>\n</div>"
     },
     "execution_count": 54,
     "metadata": {},
     "output_type": "execute_result"
    }
   ],
   "source": [
    "#Movie: body of lies\n",
    "df_bol = df_merged[df_merged['movie_title'].str.lower() == 'body of lies']\n",
    "df_bol"
   ],
   "metadata": {
    "collapsed": false,
    "ExecuteTime": {
     "end_time": "2023-10-17T14:33:21.538673800Z",
     "start_time": "2023-10-17T14:33:21.356712900Z"
    }
   },
   "id": "e33d65dd29adf6a2"
  },
  {
   "cell_type": "code",
   "execution_count": 56,
   "outputs": [
    {
     "name": "stdout",
     "output_type": "stream",
     "text": [
      "Positive review: 50.49%\n",
      "Movies status: Rotten\n"
     ]
    }
   ],
   "source": [
    "#Get predictions\n",
    "y_predict_bol = random_forest_weighted.predict(vectorizer.transform(df_bol['review_content']).toarray())\n",
    "predict_movie_status(y_predict_bol)"
   ],
   "metadata": {
    "collapsed": false,
    "ExecuteTime": {
     "end_time": "2023-10-17T14:34:12.730117700Z",
     "start_time": "2023-10-17T14:34:12.673454200Z"
    }
   },
   "id": "808682c5feb3cc57"
  },
  {
   "cell_type": "code",
   "execution_count": 58,
   "outputs": [
    {
     "data": {
      "text/plain": "array(['Rotten'], dtype=object)"
     },
     "execution_count": 58,
     "metadata": {},
     "output_type": "execute_result"
    }
   ],
   "source": [
    "#Get true value\n",
    "df_merged['tomatometer_status'][df_merged['movie_title'].str.lower() == 'body of lies'].unique()"
   ],
   "metadata": {
    "collapsed": false,
    "ExecuteTime": {
     "end_time": "2023-10-17T14:35:07.161509500Z",
     "start_time": "2023-10-17T14:35:06.981402200Z"
    }
   },
   "id": "2de712b893df982b"
  },
  {
   "cell_type": "code",
   "execution_count": 59,
   "outputs": [
    {
     "data": {
      "text/plain": "       rotten_tomatoes_link  movie_title  \\\n9240  m/1000959-angel_heart  Angel Heart   \n9245  m/1000959-angel_heart  Angel Heart   \n9246  m/1000959-angel_heart  Angel Heart   \n9248  m/1000959-angel_heart  Angel Heart   \n9249  m/1000959-angel_heart  Angel Heart   \n9250  m/1000959-angel_heart  Angel Heart   \n9253  m/1000959-angel_heart  Angel Heart   \n9255  m/1000959-angel_heart  Angel Heart   \n9256  m/1000959-angel_heart  Angel Heart   \n9260  m/1000959-angel_heart  Angel Heart   \n9261  m/1000959-angel_heart  Angel Heart   \n9262  m/1000959-angel_heart  Angel Heart   \n9263  m/1000959-angel_heart  Angel Heart   \n9264  m/1000959-angel_heart  Angel Heart   \n9265  m/1000959-angel_heart  Angel Heart   \n9266  m/1000959-angel_heart  Angel Heart   \n9267  m/1000959-angel_heart  Angel Heart   \n9268  m/1000959-angel_heart  Angel Heart   \n\n                                         review_content review_type  \\\n9240  Angel Heart is a thriller and a horror movie, ...       Fresh   \n9245  Alan Parker's pulp sensibilities are beautiful...       Fresh   \n9246     One of the few truly great modern horror films       Fresh   \n9248  Erotic, twisty and incredibly disturbed. Splen...       Fresh   \n9249  Este excepcional noir conta com maravilhosa fo...       Fresh   \n9250  An underappreciated thriller with a sizzling L...       Fresh   \n9253            feels awfully conventional on the whole      Rotten   \n9255  Seriously creepy bayou noir with more twists t...       Fresh   \n9256   A hot little movie with even hotter performances       Fresh   \n9260  Metaphysical and emotional anemia is an import...      Rotten   \n9261  Offbeat Faustian voodoo tale about the descent...       Fresh   \n9262  The book's so good it deserves a better movie,...       Fresh   \n9263  [This genre] is especially satisfying for me b...       Fresh   \n9264      A sexy and loopy nightmare drenched in blood.       Fresh   \n9265  'The banality of evil' is a phrase one hears. ...      Rotten   \n9266  Angel Heart has more style than substance. But...       Fresh   \n9267  Parker's text is impossibly rich, impossibly c...       Fresh   \n9268  Angel Heart is a stylish, arresting, and beaut...       Fresh   \n\n     tomatometer_status  \n9240              Fresh  \n9245              Fresh  \n9246              Fresh  \n9248              Fresh  \n9249              Fresh  \n9250              Fresh  \n9253              Fresh  \n9255              Fresh  \n9256              Fresh  \n9260              Fresh  \n9261              Fresh  \n9262              Fresh  \n9263              Fresh  \n9264              Fresh  \n9265              Fresh  \n9266              Fresh  \n9267              Fresh  \n9268              Fresh  ",
      "text/html": "<div>\n<style scoped>\n    .dataframe tbody tr th:only-of-type {\n        vertical-align: middle;\n    }\n\n    .dataframe tbody tr th {\n        vertical-align: top;\n    }\n\n    .dataframe thead th {\n        text-align: right;\n    }\n</style>\n<table border=\"1\" class=\"dataframe\">\n  <thead>\n    <tr style=\"text-align: right;\">\n      <th></th>\n      <th>rotten_tomatoes_link</th>\n      <th>movie_title</th>\n      <th>review_content</th>\n      <th>review_type</th>\n      <th>tomatometer_status</th>\n    </tr>\n  </thead>\n  <tbody>\n    <tr>\n      <th>9240</th>\n      <td>m/1000959-angel_heart</td>\n      <td>Angel Heart</td>\n      <td>Angel Heart is a thriller and a horror movie, ...</td>\n      <td>Fresh</td>\n      <td>Fresh</td>\n    </tr>\n    <tr>\n      <th>9245</th>\n      <td>m/1000959-angel_heart</td>\n      <td>Angel Heart</td>\n      <td>Alan Parker's pulp sensibilities are beautiful...</td>\n      <td>Fresh</td>\n      <td>Fresh</td>\n    </tr>\n    <tr>\n      <th>9246</th>\n      <td>m/1000959-angel_heart</td>\n      <td>Angel Heart</td>\n      <td>One of the few truly great modern horror films</td>\n      <td>Fresh</td>\n      <td>Fresh</td>\n    </tr>\n    <tr>\n      <th>9248</th>\n      <td>m/1000959-angel_heart</td>\n      <td>Angel Heart</td>\n      <td>Erotic, twisty and incredibly disturbed. Splen...</td>\n      <td>Fresh</td>\n      <td>Fresh</td>\n    </tr>\n    <tr>\n      <th>9249</th>\n      <td>m/1000959-angel_heart</td>\n      <td>Angel Heart</td>\n      <td>Este excepcional noir conta com maravilhosa fo...</td>\n      <td>Fresh</td>\n      <td>Fresh</td>\n    </tr>\n    <tr>\n      <th>9250</th>\n      <td>m/1000959-angel_heart</td>\n      <td>Angel Heart</td>\n      <td>An underappreciated thriller with a sizzling L...</td>\n      <td>Fresh</td>\n      <td>Fresh</td>\n    </tr>\n    <tr>\n      <th>9253</th>\n      <td>m/1000959-angel_heart</td>\n      <td>Angel Heart</td>\n      <td>feels awfully conventional on the whole</td>\n      <td>Rotten</td>\n      <td>Fresh</td>\n    </tr>\n    <tr>\n      <th>9255</th>\n      <td>m/1000959-angel_heart</td>\n      <td>Angel Heart</td>\n      <td>Seriously creepy bayou noir with more twists t...</td>\n      <td>Fresh</td>\n      <td>Fresh</td>\n    </tr>\n    <tr>\n      <th>9256</th>\n      <td>m/1000959-angel_heart</td>\n      <td>Angel Heart</td>\n      <td>A hot little movie with even hotter performances</td>\n      <td>Fresh</td>\n      <td>Fresh</td>\n    </tr>\n    <tr>\n      <th>9260</th>\n      <td>m/1000959-angel_heart</td>\n      <td>Angel Heart</td>\n      <td>Metaphysical and emotional anemia is an import...</td>\n      <td>Rotten</td>\n      <td>Fresh</td>\n    </tr>\n    <tr>\n      <th>9261</th>\n      <td>m/1000959-angel_heart</td>\n      <td>Angel Heart</td>\n      <td>Offbeat Faustian voodoo tale about the descent...</td>\n      <td>Fresh</td>\n      <td>Fresh</td>\n    </tr>\n    <tr>\n      <th>9262</th>\n      <td>m/1000959-angel_heart</td>\n      <td>Angel Heart</td>\n      <td>The book's so good it deserves a better movie,...</td>\n      <td>Fresh</td>\n      <td>Fresh</td>\n    </tr>\n    <tr>\n      <th>9263</th>\n      <td>m/1000959-angel_heart</td>\n      <td>Angel Heart</td>\n      <td>[This genre] is especially satisfying for me b...</td>\n      <td>Fresh</td>\n      <td>Fresh</td>\n    </tr>\n    <tr>\n      <th>9264</th>\n      <td>m/1000959-angel_heart</td>\n      <td>Angel Heart</td>\n      <td>A sexy and loopy nightmare drenched in blood.</td>\n      <td>Fresh</td>\n      <td>Fresh</td>\n    </tr>\n    <tr>\n      <th>9265</th>\n      <td>m/1000959-angel_heart</td>\n      <td>Angel Heart</td>\n      <td>'The banality of evil' is a phrase one hears. ...</td>\n      <td>Rotten</td>\n      <td>Fresh</td>\n    </tr>\n    <tr>\n      <th>9266</th>\n      <td>m/1000959-angel_heart</td>\n      <td>Angel Heart</td>\n      <td>Angel Heart has more style than substance. But...</td>\n      <td>Fresh</td>\n      <td>Fresh</td>\n    </tr>\n    <tr>\n      <th>9267</th>\n      <td>m/1000959-angel_heart</td>\n      <td>Angel Heart</td>\n      <td>Parker's text is impossibly rich, impossibly c...</td>\n      <td>Fresh</td>\n      <td>Fresh</td>\n    </tr>\n    <tr>\n      <th>9268</th>\n      <td>m/1000959-angel_heart</td>\n      <td>Angel Heart</td>\n      <td>Angel Heart is a stylish, arresting, and beaut...</td>\n      <td>Fresh</td>\n      <td>Fresh</td>\n    </tr>\n  </tbody>\n</table>\n</div>"
     },
     "execution_count": 59,
     "metadata": {},
     "output_type": "execute_result"
    }
   ],
   "source": [
    "#Movie: angel heart\n",
    "df_bol = df_merged[df_merged['movie_title'].str.lower() == 'angel heart']\n",
    "df_bol"
   ],
   "metadata": {
    "collapsed": false,
    "ExecuteTime": {
     "end_time": "2023-10-17T14:35:53.900877100Z",
     "start_time": "2023-10-17T14:35:53.718990900Z"
    }
   },
   "id": "7232187c332f41bb"
  },
  {
   "cell_type": "code",
   "execution_count": 60,
   "outputs": [
    {
     "name": "stdout",
     "output_type": "stream",
     "text": [
      "Positive review: 61.11%\n",
      "Movies status: Fresh\n"
     ]
    }
   ],
   "source": [
    "#Get predictions\n",
    "y_predict_bol = random_forest_weighted.predict(vectorizer.transform(df_bol['review_content']).toarray())\n",
    "predict_movie_status(y_predict_bol)"
   ],
   "metadata": {
    "collapsed": false,
    "ExecuteTime": {
     "end_time": "2023-10-17T14:36:16.074726600Z",
     "start_time": "2023-10-17T14:36:16.050220400Z"
    }
   },
   "id": "e44c753a3d4e384a"
  },
  {
   "cell_type": "code",
   "execution_count": 61,
   "outputs": [
    {
     "data": {
      "text/plain": "array(['Fresh'], dtype=object)"
     },
     "execution_count": 61,
     "metadata": {},
     "output_type": "execute_result"
    }
   ],
   "source": [
    "#Get true value\n",
    "df_merged['tomatometer_status'][df_merged['movie_title'].str.lower() == 'angel heart'].unique()"
   ],
   "metadata": {
    "collapsed": false,
    "ExecuteTime": {
     "end_time": "2023-10-17T14:36:36.008819600Z",
     "start_time": "2023-10-17T14:36:35.824730600Z"
    }
   },
   "id": "7177d06ed6c6650a"
  },
  {
   "cell_type": "code",
   "execution_count": 62,
   "outputs": [
    {
     "data": {
      "text/plain": "     rotten_tomatoes_link  movie_title  \\\n8558   m/10009493-duchess  The Duchess   \n8559   m/10009493-duchess  The Duchess   \n8560   m/10009493-duchess  The Duchess   \n8561   m/10009493-duchess  The Duchess   \n8562   m/10009493-duchess  The Duchess   \n...                   ...          ...   \n8723   m/10009493-duchess  The Duchess   \n8724   m/10009493-duchess  The Duchess   \n8725   m/10009493-duchess  The Duchess   \n8726   m/10009493-duchess  The Duchess   \n8727   m/10009493-duchess  The Duchess   \n\n                                         review_content review_type  \\\n8558  For all its luscious period trappings and Keir...      Rotten   \n8559  Solid but distant melodrama about the flamboya...       Fresh   \n8560  It could have been an intriguing, poignant sag...      Rotten   \n8561  Has riveting parallels with much more recent B...       Fresh   \n8562  Ralph Fiennes steals it as the dour duke in a ...       Fresh   \n...                                                 ...         ...   \n8723  This is meant to be Ms Knightley's film, and i...       Fresh   \n8724  Ignore the details and focus on the big pictur...       Fresh   \n8725  Knightley shines, taking Georgiana from carefr...       Fresh   \n8726  Dibb never overwhelms the emotions with overwr...       Fresh   \n8727  A frothy concoction simmering at the same mode...       Fresh   \n\n     tomatometer_status  \n8558              Fresh  \n8559              Fresh  \n8560              Fresh  \n8561              Fresh  \n8562              Fresh  \n...                 ...  \n8723              Fresh  \n8724              Fresh  \n8725              Fresh  \n8726              Fresh  \n8727              Fresh  \n\n[163 rows x 5 columns]",
      "text/html": "<div>\n<style scoped>\n    .dataframe tbody tr th:only-of-type {\n        vertical-align: middle;\n    }\n\n    .dataframe tbody tr th {\n        vertical-align: top;\n    }\n\n    .dataframe thead th {\n        text-align: right;\n    }\n</style>\n<table border=\"1\" class=\"dataframe\">\n  <thead>\n    <tr style=\"text-align: right;\">\n      <th></th>\n      <th>rotten_tomatoes_link</th>\n      <th>movie_title</th>\n      <th>review_content</th>\n      <th>review_type</th>\n      <th>tomatometer_status</th>\n    </tr>\n  </thead>\n  <tbody>\n    <tr>\n      <th>8558</th>\n      <td>m/10009493-duchess</td>\n      <td>The Duchess</td>\n      <td>For all its luscious period trappings and Keir...</td>\n      <td>Rotten</td>\n      <td>Fresh</td>\n    </tr>\n    <tr>\n      <th>8559</th>\n      <td>m/10009493-duchess</td>\n      <td>The Duchess</td>\n      <td>Solid but distant melodrama about the flamboya...</td>\n      <td>Fresh</td>\n      <td>Fresh</td>\n    </tr>\n    <tr>\n      <th>8560</th>\n      <td>m/10009493-duchess</td>\n      <td>The Duchess</td>\n      <td>It could have been an intriguing, poignant sag...</td>\n      <td>Rotten</td>\n      <td>Fresh</td>\n    </tr>\n    <tr>\n      <th>8561</th>\n      <td>m/10009493-duchess</td>\n      <td>The Duchess</td>\n      <td>Has riveting parallels with much more recent B...</td>\n      <td>Fresh</td>\n      <td>Fresh</td>\n    </tr>\n    <tr>\n      <th>8562</th>\n      <td>m/10009493-duchess</td>\n      <td>The Duchess</td>\n      <td>Ralph Fiennes steals it as the dour duke in a ...</td>\n      <td>Fresh</td>\n      <td>Fresh</td>\n    </tr>\n    <tr>\n      <th>...</th>\n      <td>...</td>\n      <td>...</td>\n      <td>...</td>\n      <td>...</td>\n      <td>...</td>\n    </tr>\n    <tr>\n      <th>8723</th>\n      <td>m/10009493-duchess</td>\n      <td>The Duchess</td>\n      <td>This is meant to be Ms Knightley's film, and i...</td>\n      <td>Fresh</td>\n      <td>Fresh</td>\n    </tr>\n    <tr>\n      <th>8724</th>\n      <td>m/10009493-duchess</td>\n      <td>The Duchess</td>\n      <td>Ignore the details and focus on the big pictur...</td>\n      <td>Fresh</td>\n      <td>Fresh</td>\n    </tr>\n    <tr>\n      <th>8725</th>\n      <td>m/10009493-duchess</td>\n      <td>The Duchess</td>\n      <td>Knightley shines, taking Georgiana from carefr...</td>\n      <td>Fresh</td>\n      <td>Fresh</td>\n    </tr>\n    <tr>\n      <th>8726</th>\n      <td>m/10009493-duchess</td>\n      <td>The Duchess</td>\n      <td>Dibb never overwhelms the emotions with overwr...</td>\n      <td>Fresh</td>\n      <td>Fresh</td>\n    </tr>\n    <tr>\n      <th>8727</th>\n      <td>m/10009493-duchess</td>\n      <td>The Duchess</td>\n      <td>A frothy concoction simmering at the same mode...</td>\n      <td>Fresh</td>\n      <td>Fresh</td>\n    </tr>\n  </tbody>\n</table>\n<p>163 rows × 5 columns</p>\n</div>"
     },
     "execution_count": 62,
     "metadata": {},
     "output_type": "execute_result"
    }
   ],
   "source": [
    "#Movie: the duchess\n",
    "df_bol = df_merged[df_merged['movie_title'].str.lower() == 'the duchess']\n",
    "df_bol"
   ],
   "metadata": {
    "collapsed": false,
    "ExecuteTime": {
     "end_time": "2023-10-17T14:37:23.736044Z",
     "start_time": "2023-10-17T14:37:23.547761300Z"
    }
   },
   "id": "a67be3b33d77c064"
  },
  {
   "cell_type": "code",
   "execution_count": 63,
   "outputs": [
    {
     "name": "stdout",
     "output_type": "stream",
     "text": [
      "Positive review: 60.12%\n",
      "Movies status: Fresh\n"
     ]
    }
   ],
   "source": [
    "#Get predictions\n",
    "y_predict_bol = random_forest_weighted.predict(vectorizer.transform(df_bol['review_content']).toarray())\n",
    "predict_movie_status(y_predict_bol)"
   ],
   "metadata": {
    "collapsed": false,
    "ExecuteTime": {
     "end_time": "2023-10-17T14:37:35.687082500Z",
     "start_time": "2023-10-17T14:37:35.649672800Z"
    }
   },
   "id": "f3feaf665e372fed"
  },
  {
   "cell_type": "code",
   "execution_count": 64,
   "outputs": [
    {
     "data": {
      "text/plain": "array(['Fresh'], dtype=object)"
     },
     "execution_count": 64,
     "metadata": {},
     "output_type": "execute_result"
    }
   ],
   "source": [
    "#Get true value\n",
    "df_merged['tomatometer_status'][df_merged['movie_title'].str.lower() == 'the duchess'].unique()"
   ],
   "metadata": {
    "collapsed": false,
    "ExecuteTime": {
     "end_time": "2023-10-17T14:37:45.356835200Z",
     "start_time": "2023-10-17T14:37:45.174152900Z"
    }
   },
   "id": "ca2fb49bdcc6b16c"
  },
  {
   "cell_type": "code",
   "execution_count": null,
   "outputs": [],
   "source": [],
   "metadata": {
    "collapsed": false
   },
   "id": "5c9cce109187fb85"
  }
 ],
 "metadata": {
  "kernelspec": {
   "display_name": "Python 3",
   "language": "python",
   "name": "python3"
  },
  "language_info": {
   "codemirror_mode": {
    "name": "ipython",
    "version": 2
   },
   "file_extension": ".py",
   "mimetype": "text/x-python",
   "name": "python",
   "nbconvert_exporter": "python",
   "pygments_lexer": "ipython2",
   "version": "2.7.6"
  }
 },
 "nbformat": 4,
 "nbformat_minor": 5
}
